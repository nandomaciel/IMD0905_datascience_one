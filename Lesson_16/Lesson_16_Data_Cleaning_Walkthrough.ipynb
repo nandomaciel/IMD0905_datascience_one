{
  "nbformat": 4,
  "nbformat_minor": 0,
  "metadata": {
    "colab": {
      "name": "Lesson 16 - Data Cleaning Walkthrough.ipynb",
      "version": "0.3.2",
      "provenance": [],
      "collapsed_sections": []
    },
    "kernelspec": {
      "display_name": "Python 3",
      "language": "python",
      "name": "python3"
    }
  },
  "cells": [
    {
      "metadata": {
        "toc-hr-collapsed": false,
        "id": "3-pogv1bdA9c",
        "colab_type": "text"
      },
      "cell_type": "markdown",
      "source": [
        "# 1.0 Data Cleaning Walkthrough"
      ]
    },
    {
      "metadata": {
        "id": "1hETuIFhdA9d",
        "colab_type": "text"
      },
      "cell_type": "markdown",
      "source": [
        "## 1.1 Introduction"
      ]
    },
    {
      "metadata": {
        "id": "a1R7q9OydA9e",
        "colab_type": "text"
      },
      "cell_type": "markdown",
      "source": [
        "At many points in your career, you'll need to be able to build complete, end-to-end data science projects on your own. **Data science projects usually consist of one of two things:**\n",
        "\n",
        "- An exploration and analysis of a set of data. One example might involve analyzing donors to political campaigns, creating a plot, and then sharing an analysis of the plot with others.\n",
        "- An operational system that generates predictions based on data that updates continually. An algorithm that pulls in daily stock ticker data and predicts which stock prices will rise and fall would be one example.\n",
        "\n",
        "You'll find the ability to create data science projects useful in several different contexts:\n",
        "\n",
        "- Projects will help you build a portfolio, which is critical to finding a job as a data analyst or scientist.\n",
        "- Working on projects will help you learn new skills and reinforce existing concepts.\n",
        "- Most \"real-world\" data science and analysis work consists of developing internal projects.\n",
        "- Projects allow you to investigate interesting phenomena and satisfy your curiosity.\n",
        "\n",
        "Whether you aim to become a data scientist or analyst or you're just curious about the world, building projects can be immensely rewarding.\n",
        "\n",
        "**In this section, we'll walk through the first part of a complete data science project, including how to acquire the raw data.** The project will focus on exploring and analyzing a data set. We'll develop our **data cleaning** and **storytelling skills**, which will enable us to build complete projects on our own.\n",
        "\n",
        "We'll focus **primarily on data exploration** in this section. We'll also combine several messy data sets into a single clean one to make analysis easier. Over the next few missions, we'll work through the rest of our project and perform the actual analysis.\n",
        "\n",
        "**The first step in creating a project is to decide on a topic**. You want the topic to be something you're interested in and motivated to explore. It's very obvious when people are making projects just to make them, rather than out of a genuine interest in the topic.\n",
        "\n",
        "Here are two ways to go about finding a good topic:\n",
        "\n",
        "- Think about what sectors or angles you're really interested in, then find data sets relating to those sectors.\n",
        "- Review several data sets, and find one that seems interesting enough to explore.\n",
        "\n",
        "Whichever approach you take, you can start your search at these sites:\n",
        "\n",
        "- [Data.gov](https://www.data.gov/) - A directory of government data downloads\n",
        "- [/r/datasets](https://reddit.com/r/datasets) - A subreddit that has hundreds of interesting data sets\n",
        "- [Awesome datasets](https://github.com/caesar0301/awesome-public-datasets) - A list of data sets hosted on GitHub\n",
        "- [rs.io](http://rs.io/100-interesting-data-sets-for-statistics/) - A great blog post with hundreds of interesting data sets\n",
        "In real-world data science, you may not find an ideal data set. You might have to aggregate disparate data sources instead, or do a good amount of data cleaning.\n",
        "\n",
        "For the purposes of this project, we'll be using data about New York City public schools, which can be found [here](https://data.cityofnewyork.us/browse?category=Education)."
      ]
    },
    {
      "metadata": {
        "id": "3nO-3NHWdA9f",
        "colab_type": "text"
      },
      "cell_type": "markdown",
      "source": [
        "## 1.2 Finding All of the Relevant Data Sets"
      ]
    },
    {
      "metadata": {
        "id": "viK0pRw4dA9f",
        "colab_type": "text"
      },
      "cell_type": "markdown",
      "source": [
        "Once you've chosen a topic, you'll want to pick an angle to investigate. It's important to choose an angle that has enough depth to analyze, but isn't so complicated that it's difficult to get started. You want to finish the project, and you want your results to be interesting to others.\n",
        "\n",
        "One of the most controversial issues in the U.S. educational system is the efficacy of standardized tests, and whether they're unfair to certain groups. Given our prior knowledge of this topic, investigating the correlations between [SAT scores](https://en.wikipedia.org/wiki/SAT) and demographics might be an interesting angle to take. We could correlate SAT scores with factors like race, gender, income, and more.\n",
        "\n",
        "The SAT, or Scholastic Aptitude Test, is an exam that U.S. high school students take before applying to college. Colleges take the test scores into account when deciding who to admit, so it's fairly important to perform well on it.\n",
        "\n",
        "The test consists of three sections, each of which has 800 possible points. The combined score is out of 2,400 possible points (while this number has changed a few times, the data set for our project is based on 2,400 total points). **Organizations often rank high schools by their average SAT scores.** The scores are also considered a measure of overall school district quality.\n",
        "\n",
        "New York City makes its data on [high school SAT scores](https://data.cityofnewyork.us/Education/SAT-Results/f9bf-2cp4) available online, as well as the [demographics for each high school](https://data.cityofnewyork.us/Education/DOE-High-School-Directory-2014-2015/n3p6-zve2). The first few rows of the SAT data look like this:\n",
        "\n",
        "<left><img width=\"600\" src=\"https://drive.google.com/uc?export=view&id=1_1f_s0jbjSH1YeWs-W3Ioy8mqDqaYYNb\"></left>\n",
        "\n",
        "Unfortunately, combining both of the data sets won't give us all of the demographic information we want to use. We'll need to supplement our data with other sources to do our full analysis.\n",
        "\n",
        "The same website has several related data sets covering demographic information and test scores. Here are the links to all of the data sets we'll be using:\n",
        "\n",
        "- [SAT scores by school](https://data.cityofnewyork.us/Education/SAT-Results/f9bf-2cp4) - SAT scores for each high school in New York City\n",
        "- [School attendance](https://data.cityofnewyork.us/Education/School-Attendance-and-Enrollment-Statistics-by-Dis/7z8d-msnt) - Attendance information for each school in New York City\n",
        "- [Class size](https://data.cityofnewyork.us/Education/2010-2011-Class-Size-School-level-detail/urz7-pzb3) - Information on class size for each school\n",
        "- [AP test results](https://data.cityofnewyork.us/Education/AP-College-Board-2010-School-Level-Results/itfs-ms3e) - Advanced Placement (AP) exam results for each high school (passing an optional AP exam in a particular subject can earn a student college credit in that subject)\n",
        "- [Graduation outcomes](https://data.cityofnewyork.us/Education/Graduation-Outcomes-Classes-Of-2005-2010-School-Le/vh2h-md7a) - The percentage of students who graduated, and other outcome information\n",
        "- [Demographics](https://data.cityofnewyork.us/Education/School-Demographics-and-Accountability-Snapshot-20/ihfw-zy9j) - Demographic information for each school\n",
        "- [School survey](https://data.cityofnewyork.us/Education/NYC-School-Survey-2011/mnz3-dyi8) - Surveys of parents, teachers, and students at each school\n",
        "All of these data sets are interrelated. We'll need to combine them into a single data set before we can find correlations."
      ]
    },
    {
      "metadata": {
        "id": "Z9UacfL1dA9g",
        "colab_type": "text"
      },
      "cell_type": "markdown",
      "source": [
        "## 1.3 Finding Background Information"
      ]
    },
    {
      "metadata": {
        "id": "jEIkEjUrdA9h",
        "colab_type": "text"
      },
      "cell_type": "markdown",
      "source": [
        "Before we move into coding, we'll need to do some background research. A thorough understanding of the data will help us avoid costly mistakes, such as thinking that a column represents something other than what it does. Background research will also give us a better understanding of how to combine and analyze the data.\n",
        "\n",
        "In this case, we'll want to research:\n",
        "\n",
        "- [New York City](https://en.wikipedia.org/wiki/New_York_City)\n",
        "- [The SAT](https://en.wikipedia.org/wiki/SAT)\n",
        "- [Schools in New York City](https://en.wikipedia.org/wiki/List_of_high_schools_in_New_York_City)\n",
        "- [Our data](https://data.cityofnewyork.us/browse?category=Education)\n",
        "\n",
        "We can learn a few different things from these resources. For example:\n",
        "\n",
        "- Only high school students take the SAT, so we'll want to focus on high schools.\n",
        "- New York City is made up of five boroughs, which are essentially distinct regions.\n",
        "- New York City schools fall within several different school districts, each of which can contains dozens of schools.\n",
        "- Our data sets include several different types of schools. We'll need to clean them so that we can focus on high schools only.\n",
        "- Each school in New York City has a unique code called a **DBN**, or district borough number.\n",
        "- Aggregating data by district will allow us to use the district mapping data to plot district-by-district differences."
      ]
    },
    {
      "metadata": {
        "id": "24jQe2T5dA9i",
        "colab_type": "text"
      },
      "cell_type": "markdown",
      "source": [
        "## 1.4 Reading in the Data"
      ]
    },
    {
      "metadata": {
        "id": "So30uvNXdA9k",
        "colab_type": "text"
      },
      "cell_type": "markdown",
      "source": [
        "Once we've done our background research, we're ready to read in the data. For your convenience, we've placed all the data into the schools folder. Here are all of the files in the folder:\n",
        "\n",
        "- **ap_2010.csv** - [Data on AP test results](https://data.cityofnewyork.us/Education/AP-College-Board-2010-School-Level-Results/itfs-ms3e)\n",
        "- **class_size.csv** - Data on [class size](https://data.cityofnewyork.us/Education/2010-2011-Class-Size-School-level-detail/urz7-pzb3)\n",
        "- **demographics.csv** - Data on [demographics](https://data.cityofnewyork.us/Education/School-Demographics-and-Accountability-Snapshot-20/ihfw-zy9j)\n",
        "- **graduation.csv** - Data on [graduation outcomes](https://data.cityofnewyork.us/Education/Graduation-Outcomes-Classes-Of-2005-2010-School-Le/vh2h-md7a)\n",
        "- **hs_directory.csv** - [A directory of high schools](https://data.cityofnewyork.us/Education/DOE-High-School-Directory-2014-2015/n3p6-zve2)\n",
        "- **sat_results.csv** - Data on [SAT scores](https://data.cityofnewyork.us/Education/SAT-Results/f9bf-2cp4)\n",
        "- **survey_all.txt** - Data on [surveys](https://data.cityofnewyork.us/Education/NYC-School-Survey-2011/mnz3-dyi8) from all schools\n",
        "- **survey_d75.txt** - Data on surveys from New York City district 75\n",
        "\n",
        "**survey_all.txt** and **survey_d75.txt** are in more complicated formats than the other files. For now, we'll focus on reading in the - CSV files only, and then explore them.\n",
        "\n",
        "We'll read each file into a [pandas dataframe](http://pandas.pydata.org/pandas-docs/stable/generated/pandas.DataFrame.html), and then store all of the dataframes in a dictionary. This will give us a convenient way to store them, and a quick way to reference them later on."
      ]
    },
    {
      "metadata": {
        "id": "53TsVJtsdA9k",
        "colab_type": "text"
      },
      "cell_type": "markdown",
      "source": [
        "**Exercise**\n",
        "\n",
        "<left><img width=\"100\" src=\"https://drive.google.com/uc?export=view&id=1E8tR7B9YYUXsU_rddJAyq0FrM0MSelxZ\"></left>\n",
        "\n",
        "- Read each of the files in the list **data_files** into a pandas dataframe using the **pandas.read_csv()** function.\n",
        "- Recall that all of the data sets are in the **datasets** folder. That means the path to **ap_2010.csv** is **datasets/ap_2010.csv**.\n",
        "- Add each of the dataframes to the **dictionary data**, using the base of **filename as the key**. For example, you'd enter **ap_2010** for the file **ap_2010.csv.**\n",
        "- Afterwards, **data** should have the following keys:\n",
        "    - **ap_2010**\n",
        "    - **class_size**\n",
        "    - **demographics**\n",
        "    - **graduation**\n",
        "    - **hs_directory**\n",
        "    - **sat_results**\n",
        "- In addition, each key in **data** should have the corresponding dataframe as its value.\n"
      ]
    },
    {
      "metadata": {
        "id": "SyCFLgX9dA9l",
        "colab_type": "code",
        "colab": {}
      },
      "cell_type": "code",
      "source": [
        "# put your code here\n",
        "\n",
        "import pandas as pd\n",
        "data_files = [\n",
        "    \"ap_2010.csv\",\n",
        "    \"class_size.csv\",\n",
        "    \"demographics.csv\",\n",
        "    \"graduation.csv\",\n",
        "    \"hs_directory.csv\",\n",
        "    \"sat_results.csv\"\n",
        "]\n",
        "data = {}\n",
        "\n"
      ],
      "execution_count": 0,
      "outputs": []
    },
    {
      "metadata": {
        "id": "Hsnb05DNdA9o",
        "colab_type": "text"
      },
      "cell_type": "markdown",
      "source": [
        "## 1.5 Exploring the SAT Data"
      ]
    },
    {
      "metadata": {
        "id": "Vze1oZIMdA9p",
        "colab_type": "text"
      },
      "cell_type": "markdown",
      "source": [
        "What we're mainly interested in is the SAT data set, which corresponds to the dictionary key **sat_results**. This data set contains the **SAT scores** for each high school in New York City. We eventually want to correlate selected information from this data set with information in the other data sets.\n",
        "\n",
        "Let's explore **sat_results** to see what we can discover. Exploring the dataframe will help us understand the structure of the data, and make it easier for us to analyze it.\n",
        "\n",
        "**Exercise**\n",
        "\n",
        "<left><img width=\"100\" src=\"https://drive.google.com/uc?export=view&id=1E8tR7B9YYUXsU_rddJAyq0FrM0MSelxZ\"></left>\n",
        "\n",
        "- Display the first five rows of the SAT scores data.\n",
        "    - Use the key **sat_results** to access the SAT scores dataframe stored in the dictionary **data.**\n",
        "    - Use the **pandas.DataFrame.head()** method along with the **print()** function to display the first five rows of the dataframe."
      ]
    },
    {
      "metadata": {
        "id": "2gaFInX_dA9q",
        "colab_type": "code",
        "colab": {}
      },
      "cell_type": "code",
      "source": [
        "# put your code here\n",
        "data.set_results()\n",
        "pandas.data.head()\n"
      ],
      "execution_count": 0,
      "outputs": []
    },
    {
      "metadata": {
        "id": "twT8eZ5NdA9t",
        "colab_type": "text"
      },
      "cell_type": "markdown",
      "source": [
        "## 1.6 Exploring the Remaining Data"
      ]
    },
    {
      "metadata": {
        "id": "zfM8KzZedA9u",
        "colab_type": "text"
      },
      "cell_type": "markdown",
      "source": [
        "When we printed the first five rows of the SAT data, the output looked like this:\n",
        "\n",
        "```python\n",
        "DBN                                    SCHOOL NAME  \\\n",
        "0  01M292  HENRY STREET SCHOOL FOR INTERNATIONAL STUDIES\n",
        "1  01M448            UNIVERSITY NEIGHBORHOOD HIGH SCHOOL\n",
        "2  01M450                     EAST SIDE COMMUNITY SCHOOL\n",
        "3  01M458                      FORSYTH SATELLITE ACADEMY\n",
        "4  01M509                        MARTA VALLE HIGH SCHOOL\n",
        "\n",
        "  Num of SAT Test Takers SAT Critical Reading Avg. Score SAT Math Avg. Score  \\\n",
        "0                     29                             355                 404\n",
        "1                     91                             383                 423\n",
        "2                     70                             377                 402\n",
        "3                      7                             414                 401\n",
        "4                     44                             390                 433\n",
        "\n",
        "  SAT Writing Avg. Score\n",
        "0                    363\n",
        "1                    366\n",
        "2                    370\n",
        "3                    359\n",
        "4                    384\n",
        "```\n",
        "\n",
        "We can make a few observations based on this output:\n",
        "\n",
        "- The **DBN** appears to be a unique ID for each school.\n",
        "- We can tell from the first few rows of names that we only have data about high schools.\n",
        "- There's only a single row for each high school, so each **DBN** is unique in the SAT data.\n",
        "- We may eventually want to combine the three columns that contain SAT scores -- **SAT Critical Reading Avg.**, **Score SAT Math Avg. Score**, and **SAT Writing Avg. Score** -- into a single column to make the scores easier to analyze.\n",
        "Given these observations, let's explore the other data sets to see if we can gain any insight into how to combine them.\n",
        "\n",
        "**Exercise**\n",
        "\n",
        "<left><img width=\"100\" src=\"https://drive.google.com/uc?export=view&id=1E8tR7B9YYUXsU_rddJAyq0FrM0MSelxZ\"></left>\n",
        "\n",
        "- Loop through each **key** in **data**. For each key:\n",
        "    - Display the first five rows of the dataframe associated with the **key**."
      ]
    },
    {
      "metadata": {
        "id": "gNBwzrHjdA9v",
        "colab_type": "code",
        "colab": {}
      },
      "cell_type": "code",
      "source": [
        "# put your code here\n",
        "for i in data:\n",
        "    data.key()"
      ],
      "execution_count": 0,
      "outputs": []
    },
    {
      "metadata": {
        "id": "OHTVhumodA9x",
        "colab_type": "text"
      },
      "cell_type": "markdown",
      "source": [
        "## 1.7 Reading in the Survey Data"
      ]
    },
    {
      "metadata": {
        "id": "CUBDXsx-dA9y",
        "colab_type": "text"
      },
      "cell_type": "markdown",
      "source": [
        "\n",
        "We can make some observations based on the first few rows of each one.\n",
        "\n",
        "- Each data set appears to either have a **DBN** column, or the information we need to create one. That means we can use a **DBN** column to combine the data sets. First we'll pinpoint matching rows from different data sets by looking for identical **DBNs**, then group all of their columns together in a single data set.\n",
        "- Some fields look interesting for mapping -- particularly **Location 1**, which contains coordinates inside a larger string.\n",
        "- Some of the data sets appear to contain multiple rows for each school (because the rows have duplicate **DBN** values). That means we’ll have to do some preprocessing to ensure that each **DBN** is unique within each data set. If we don't do this, we'll run into problems when we combine the data sets, because we might be merging two rows in one data set with one row in another data set.\n",
        "\n",
        "Before we proceed with the merge, we should make sure we have all of the data we want to unify. We mentioned the survey data earlier (**survey_all.txt** and **survey_d75.txt**), but we didn't read those files in because they're in a slightly more complex format.\n",
        "\n",
        "Each survey text file looks like this:\n",
        "\n",
        "```python\n",
        "dbn bn  schoolname  d75 studentssurveyed    highschool  schooltype  rr_s\n",
        "\"01M015\"    \"M015\"  \"P.S. 015 Roberto Clemente\" 0   \"No\"    0   \"Elementary School\"     88\n",
        "```\n",
        "\n",
        "The files are tab delimited and encoded with **Windows-1252** encoding. An encoding defines how a computer stores the contents of a file in binary. The most common encodings are **UTF-8** and **ASCII**. **Windows-1252** is rarely used, and can cause errors if we read such a file in without specifying the encoding. If you'd like to read more about encodings, [here's](http://kunststube.net/encoding/) a good primer.\n",
        "\n",
        "We'll need to specify the encoding and delimiter to the pandas [pandas.read_csv()](http://pandas.pydata.org/pandas-docs/stable/generated/pandas.read_csv.html) function to ensure it reads the surveys in properly.\n",
        "\n",
        "After we read in the survey data, we'll want to combine it into a single dataframe. We can do this by calling the [pandas.concat()](http://pandas.pydata.org/pandas-docs/stable/generated/pandas.concat.html) function:\n",
        "\n",
        "```python\n",
        "z = pd.concat([x,y], axis=0)\n",
        "```\n",
        "\n",
        "The code above will combine dataframes x and y by essentially appending y to the end of x. The combined dataframe z will have the number of rows in x plus the number of rows in y."
      ]
    },
    {
      "metadata": {
        "id": "TBnvAtVkdA9z",
        "colab_type": "text"
      },
      "cell_type": "markdown",
      "source": [
        "## 1.8 Reading in the Survey Data"
      ]
    },
    {
      "metadata": {
        "id": "yBvsWsQ_dA9z",
        "colab_type": "text"
      },
      "cell_type": "markdown",
      "source": [
        "**Exercise**\n",
        "\n",
        "<left><img width=\"100\" src=\"https://drive.google.com/uc?export=view&id=1E8tR7B9YYUXsU_rddJAyq0FrM0MSelxZ\"></left>\n",
        "\n",
        "- Read in **survey_all.txt.**\n",
        "    - Use the **pandas.read_csv()** function to read **survey_all.txt** into the variable **all_survey**. Recall that this file is located in the **datasets** folder.\n",
        "    - Specify the keyword argument **delimiter=\"\\t\".**\n",
        "    - Specify the keyword argument **encoding=\"windows-1252\".**\n",
        "- Read in **survey_d75.txt.**\n",
        "    - Use the **pandas.read_csv()** function to read **datasets/survey_d75.txt** into the variable **d75_survey**. Recall that this file is located in the **datasets** folder.\n",
        "    - Specify the keyword argument **delimiter=\"\\t\".**\n",
        "    - Specify the keyword argument **encoding=\"windows-1252\".**\n",
        "- Combine **d75_survey** and **all_survey** into a single dataframe.\n",
        "    - Use the pandas [concat()](http://pandas.pydata.org/pandas-docs/stable/generated/pandas.concat.html) function with the keyword argument **axis=0** to combine **d75_survey** and **all_survey** into the dataframe **survey**.\n",
        "    - Pass in **all_survey** first, then **d75_survey** when calling the **pandas.concat()** function.\n",
        "- Display the first five rows of **survey** using the **pandas.DataFrame.head()** function.\n",
        "\n"
      ]
    },
    {
      "metadata": {
        "id": "Ww12mZbVdA91",
        "colab_type": "code",
        "colab": {}
      },
      "cell_type": "code",
      "source": [
        "# put your code here\n",
        "all_survey = pandas.read_csv(\"survey_all.txt\", delimiter=\"\\t\", encoding=\"windows-1252\")\n",
        "d75_survey = pandas.read_csv(\"survey_d75.txt\", delimiter=\"\\t\", encoding=\"windows-1252\")\n",
        "\n",
        "survey = concat([all_survey, d75_durvey], axis=0)\n",
        "\n",
        "survey.head()\n",
        "\n"
      ],
      "execution_count": 0,
      "outputs": []
    },
    {
      "metadata": {
        "id": "jMutTlSvdA93",
        "colab_type": "text"
      },
      "cell_type": "markdown",
      "source": [
        "## 1.9 Cleaning Up the Surveys"
      ]
    },
    {
      "metadata": {
        "id": "97SKdNDKdA94",
        "colab_type": "text"
      },
      "cell_type": "markdown",
      "source": [
        "In the last step, the expected output was:\n",
        "\n",
        "```python\n",
        "    N_p  N_s  N_t  aca_p_11  aca_s_11  aca_t_11  aca_tot_11    bn  com_p_11  \\\n",
        "0   90  NaN   22       7.8       NaN       7.9         7.9  M015       7.6   \n",
        "1  161  NaN   34       7.8       NaN       9.1         8.4  M019       7.6\n",
        "```\n",
        "\n",
        "There are two immediate facts that we can see in the data:\n",
        "\n",
        "- There are over **2000** columns, nearly all of which we don't need. We'll have to filter the data to remove the unnecessary ones. Working with fewer columns will make it easier to print the dataframe out and find correlations within it.\n",
        "- The survey data has a **dbn** column that we'll want to convert to uppercase (**DBN**). The conversion will make the column name consistent with the other data sets.\n",
        "\n",
        "First, we'll need filter the columns to remove the ones we don't need. Luckily, there's a data dictionary at the [original data download](https://data.cityofnewyork.us/Education/NYC-School-Survey-2011/mnz3-dyi8) location. The dictionary tells us what each column represents. Based on our knowledge of the problem and the analysis we're trying to do, we can use the data dictionary to determine which columns to use.\n",
        "\n",
        "Here's a preview of the data dictionary:\n",
        "\n",
        "\n",
        "<left><img width=\"800\" src=\"https://drive.google.com/uc?export=view&id=145GxwJiDOodRgyXfV15ybUBqfbDLFwEU\"></left>\n",
        "\n",
        "\n",
        "Based on the dictionary, it looks like these are the relevant columns:\n",
        "\n",
        "```python\n",
        "[\"dbn\", \"rr_s\", \"rr_t\", \"rr_p\", \"N_s\", \"N_t\", \"N_p\", \"saf_p_11\", \"com_p_11\", \n",
        " \"eng_p_11\", \"aca_p_11\", \"saf_t_11\", \"com_t_11\", \"eng_t_11\", \n",
        " \"aca_t_11\", \"saf_s_11\", \"com_s_11\", \"eng_s_11\", \"aca_s_11\",\n",
        " \"saf_tot_11\", \"com_tot_11\", \"eng_tot_11\", \"aca_tot_11\"]\n",
        "```\n",
        "\n",
        "These columns will give us aggregate survey data about how parents, teachers, and students feel about school safety, academic performance, and more. It will also give us the **DBN**, which allows us to uniquely identify the school.\n",
        "\n",
        "Before we filter columns out, we'll want to copy the data from the **dbn** column into a new column called **DBN**. We can copy columns like this:\n",
        "\n",
        "```python\n",
        "survey[\"new_column\"] = survey[\"old_column\"]\n",
        "```\n",
        "\n",
        "**Exercise**\n",
        "\n",
        "<left><img width=\"100\" src=\"https://drive.google.com/uc?export=view&id=1E8tR7B9YYUXsU_rddJAyq0FrM0MSelxZ\"></left>\n",
        "\n",
        "- Copy the data from the **dbn** column of **survey** into a new column in **survey** called **DBN**.\n",
        "- Filter **survey** so it only contains the columns we listed above. You can do this using **pandas.DataFrame.loc[]**.\n",
        "    - Remember that we renamed **dbn** to **DBN**; be sure to change the list of columns we want to keep accordingly.\n",
        "- Assign the dataframe **survey** to the key **survey** in the dictionary **data**.\n",
        "- When you're finished, the value in **data[\"survey\"]** should be a dataframe with 23 columns and 1702 rows.\n"
      ]
    },
    {
      "metadata": {
        "id": "fuEYu5PEdA94",
        "colab_type": "code",
        "colab": {}
      },
      "cell_type": "code",
      "source": [
        "# put your code here\n",
        "survey[\"DBN\"] = survey[\"dbn\"]\n",
        "         survey_fields = [\"DBN\", \"rr_s\", \"rr_t\", \"rr_p\", \"N_s\", \"N_t\", \"N_p\", \"saf_p_11\", \"com_p_11\", \"eng_p_11\", \"aca_p_11\", \"saf_t_11\", \"com_t_11\", \"eng_t_10\", \"aca_t_11\", \"saf_s_11\", \"com_s_11\", \"eng_s_11\", \"aca_s_11\", \"saf_tot_11\", \"com_tot_11\", \"eng_tot_11\", \"aca_tot_11\",]\n",
        "         survey = survey.loc[:,survey_fields]\n",
        "         data[\"survey\"] = survey\n",
        "         survey.shape"
      ],
      "execution_count": 0,
      "outputs": []
    },
    {
      "metadata": {
        "id": "vHtOEG1sdA96",
        "colab_type": "text"
      },
      "cell_type": "markdown",
      "source": [
        "## 1.10 Inserting DBN Fields"
      ]
    },
    {
      "metadata": {
        "id": "mI3IRe_6dA98",
        "colab_type": "text"
      },
      "cell_type": "markdown",
      "source": [
        "When we explored all of the data sets, we noticed that some of them, like **class_size** and **hs_directory**, don't have a DBN column. **hs_directory** does have a **dbn** column, though, so we can just rename it.\n",
        "\n",
        "However, **class_size** doesn't appear to have the column at all. Here are the first few rows of the data set:\n",
        "\n",
        "```python\n",
        "    CSD BOROUGH   SCHOOL CODE         SCHOOL NAME GRADE  PROGRAM TYPE  \\\n",
        "0    1       M        M015  P.S. 015 Roberto Clemente     0K       GEN ED\n",
        "1    1       M        M015  P.S. 015 Roberto Clemente     0K          CTT\n",
        "2    1       M        M015  P.S. 015 Roberto Clemente     01       GEN ED\n",
        "3    1       M        M015  P.S. 015 Roberto Clemente     01          CTT\n",
        "4    1       M        M015  P.S. 015 Roberto Clemente     02       GEN ED\n",
        "```\n",
        "\n",
        "Here are the first few rows of the **sat_results** data, which does have a **DBN** column:\n",
        "\n",
        "```python\n",
        "DBN                                    SCHOOL NAME  \\\n",
        "0  01M292  HENRY STREET SCHOOL FOR INTERNATIONAL STUDIES\n",
        "1  01M448            UNIVERSITY NEIGHBORHOOD HIGH SCHOOL\n",
        "2  01M450                     EAST SIDE COMMUNITY SCHOOL\n",
        "3  01M458                      FORSYTH SATELLITE ACADEMY\n",
        "4  01M509                        MARTA VALLE HIGH SCHOOL\n",
        "```\n",
        "\n",
        "From looking at these rows, we can tell that the **DBN** in the **sat_results** data is just a combination of the **CSD** and **SCHOOL CODE** columns in the **class_size** data. The main difference is that the **DBN** is padded, so that the **CSD** portion of it always consists of two digits. That means we'll need to add a leading 0 to the **CSD** if the **CSD** is less than two digits long. Here's a diagram illustrating what we need to do:\n",
        "\n",
        "<center><img width=\"150\" src=\"https://drive.google.com/uc?export=view&id=1k1QuSctrJnMW6gfAbTs-DJbzTe23en2U\"></center>\n",
        "\n",
        "As you can see, whenever the **CSD** is less than two digits long, we need to add a leading 0. We can accomplish this using the **pandas.Series.apply()** method, along with a custom function that:\n",
        "\n",
        "- Takes in a number.\n",
        "- Converts the number to a string using the **str()** function.\n",
        "- Check the length of the string using the **len()** function.\n",
        "    - If the string is two digits long, returns the string.\n",
        "    - If the string is one digit long, adds a 0 to the front of the string, then returns it.\n",
        "        - You can use the string method [zfill()](https://docs.python.org/3/library/stdtypes.html#str.zfill) to do this.\n",
        "\n",
        "Once we've padded the **CSD**, we can use the addition operator (+) to combine the values in the **CSD** and **SCHOOL CODE** columns. Here's an example of how we would do this:\n",
        "\n",
        "```python\n",
        "dataframe[\"new_column\"] = dataframe[\"column_one\"] + dataframe[\"column_two\"]\n",
        "```\n",
        "\n",
        "And here's a diagram illustrating the basic concept:\n",
        "\n",
        "<center><img width=\"300\" src=\"https://drive.google.com/uc?export=view&id=1Io7o-45Pixlv2tX8rTyZvL6KjIq9qMPz\"></center>\n"
      ]
    },
    {
      "metadata": {
        "id": "B7SOh_0WdA99",
        "colab_type": "text"
      },
      "cell_type": "markdown",
      "source": [
        "## 1.11 Inserting DBN Fields"
      ]
    },
    {
      "metadata": {
        "id": "6gGm8lcKdA9-",
        "colab_type": "text"
      },
      "cell_type": "markdown",
      "source": [
        "**Exercise**\n",
        "\n",
        "<left><img width=\"100\" src=\"https://drive.google.com/uc?export=view&id=1E8tR7B9YYUXsU_rddJAyq0FrM0MSelxZ\"></left>\n",
        "\n",
        "- Copy the **dbn** column in **hs_directory** into a new column called **DBN**.\n",
        "- Create a new column called **padded_csd** in the **class_size** data set.\n",
        "    - Use the [pandas.Series.apply()](https://pandas.pydata.org/pandas-docs/stable/generated/pandas.Series.apply.html) method along with the function **pad_csd()** to generate this column.\n",
        "        - Make sure to apply the function along the **data[\"class_size\"][\"CSD\"]** column.\n",
        "- Use the addition operator (+) along with the **padded_csd** and **SCHOOL CODE** columns of **class_size**, then assign the result to the **DBN** column of **class_size**.\n",
        "- Display the first few rows of **class_size** to double check the **DBN** column."
      ]
    },
    {
      "metadata": {
        "id": "KLWHJ80TdA9_",
        "colab_type": "code",
        "colab": {}
      },
      "cell_type": "code",
      "source": [
        "# put your code here\n",
        "def pad_csd(num):\n",
        "    string_representation = str(num)\n",
        "    if len(string_representation) > 1:\n",
        "        return string_representation\n",
        "    else:\n",
        "        return string_representation.zfill(2)"
      ],
      "execution_count": 0,
      "outputs": []
    },
    {
      "metadata": {
        "id": "5JvTcdIAdA-C",
        "colab_type": "text"
      },
      "cell_type": "markdown",
      "source": [
        "## 1.12 Combining the SAT Scores\n"
      ]
    },
    {
      "metadata": {
        "id": "k9_DLacqdA-C",
        "colab_type": "text"
      },
      "cell_type": "markdown",
      "source": [
        "Now we're almost ready to combine our data sets. Before we do, let's take some time to calculate variables that will be useful in our analysis. We've already discussed one such variable -- a column that totals up the SAT scores for the different sections of the exam. This will make it much easier to correlate scores with demographic factors because we'll be working with a single number, rather than three different ones.\n",
        "\n",
        "Before we can generate this column, we'll need to convert the **SAT Math Avg. Score**, **SAT Critical Reading Avg. Score**, and **SAT Writing Avg. Score** columns in the **sat_results** data set from the object (string) data type to a numeric data type. We can use the [pandas.to_numeric()](http://pandas.pydata.org/pandas-docs/version/0.17.0/generated/pandas.to_numeric.html) method for the conversion. If we don't convert the values, we won't be able to add the columns together.\n",
        "\n",
        "It's important to pass the keyword argument **errors=\"coerce\"** when we call **pandas.to_numeric()**, so that pandas treats any invalid strings it can't convert to numbers as missing values instead.\n",
        "\n",
        "After we perform the conversion, we can use the addition operator (+) to add all three columns together.\n",
        "\n",
        "\n",
        "**Exercise**\n",
        "\n",
        "<left><img width=\"100\" src=\"https://drive.google.com/uc?export=view&id=1E8tR7B9YYUXsU_rddJAyq0FrM0MSelxZ\"></left>\n",
        "\n",
        "- Convert the **SAT Math Avg. Score**, **SAT Critical Reading Avg. Score**, and **SAT Writing Avg. Score** columns in the **sat_results** data set from the object (string) data type to a numeric data type.\n",
        "    - Use the **pandas.to_numeric()** function on each of the columns, and assign the result back to the same column.\n",
        "    - Pass in the keyword argument **errors=\"coerce\".**\n",
        "- Create a column called **sat_score** in **sat_results** that holds the combined SAT score for each student.\n",
        "    - Add up **SAT Math Avg. Score**, **SAT Critical Reading Avg. Score**, and **SAT Writing Avg. Score**, and assign the total to the **sat_score** column of **sat_results.**\n",
        "- Display the first few rows of the **sat_score column** of **sat_results** to verify that everything went okay."
      ]
    },
    {
      "metadata": {
        "id": "FKcp8WPxdA-E",
        "colab_type": "code",
        "colab": {}
      },
      "cell_type": "code",
      "source": [
        "# put your code here\n",
        "cols = ['SAT Math Avg. Score', 'SAT Critical Reading Avg. Score', 'SAT Writing Avg. Score']\n",
        "for c in cols:\n",
        "    data[\"sat_results\"][c] = data[\"sat_results\"][c].convert_objects(convert_numeric=True)\n",
        "\n",
        "data['sat_results']['sat_score'] = data['sat_results'][cols[0]] + data['sat_results'][cols[1]] + data['sat_results'][cols[2]]\n"
      ],
      "execution_count": 0,
      "outputs": []
    },
    {
      "metadata": {
        "id": "zxzxs8vudA-G",
        "colab_type": "text"
      },
      "cell_type": "markdown",
      "source": [
        "## 1.13 Parsing Geographic Coordinates for Schools"
      ]
    },
    {
      "metadata": {
        "id": "5bam9Hv7dA-H",
        "colab_type": "text"
      },
      "cell_type": "markdown",
      "source": [
        "Next, we'll want to parse the **latitude** and **longitude** coordinates for each school. This will enable us to map the schools and uncover any geographic patterns in the data. The coordinates are currently in the text field **Location 1** in the **hs_directory** data set.\n",
        "\n",
        "Let's take a look at the first few rows:\n",
        "\n",
        "```python\n",
        "0    883 Classon Avenue\\nBrooklyn, NY 11225\\n(40.67...\n",
        "1    1110 Boston Road\\nBronx, NY 10456\\n(40.8276026...\n",
        "2    1501 Jerome Avenue\\nBronx, NY 10452\\n(40.84241...\n",
        "3    411 Pearl Street\\nNew York, NY 10038\\n(40.7106...\n",
        "4    160-20 Goethals Avenue\\nJamaica, NY 11432\\n(40...\n",
        "```        \n",
        "                                               \n",
        "As you can see, this field contains a lot of information we don't need. We want to extract the coordinates, which are in parentheses at the end of the field. Here's an example:\n",
        "\n",
        "```python\n",
        "1110 Boston Road\\nBronx, NY 10456\\n(40.8276026690005, -73.90447525699966)\n",
        "```\n",
        "\n",
        "We want to extract the **latitude**, 40.8276026690005, and the **longitude**, -73.90447525699966. Taken together, **latitude** and **longitude** make up a pair of coordinates that allows us to pinpoint any location on Earth.\n",
        "\n",
        "We can do the extraction with a **regular expression**. The following expression will pull out everything inside the parentheses:\n",
        "\n",
        "```python\n",
        "import re\n",
        "re.findall(\"\\(.+\\)\", \"1110 Boston Road\\nBronx, NY 10456\\n(40.8276026690005, -73.90447525699966)\")\n",
        "```\n",
        "\n",
        "This command will return (40.8276026690005, -73.90447525699966). We'll need to process this result further using the string methods [split()](https://docs.python.org/3/library/stdtypes.html#str.split) and [replace()](https://docs.python.org/3/library/stdtypes.html#str.replace) methods to extract each coordinate.\n",
        "\n",
        "**Exercise**\n",
        "\n",
        "<left><img width=\"100\" src=\"https://drive.google.com/uc?export=view&id=1E8tR7B9YYUXsU_rddJAyq0FrM0MSelxZ\"></left>\n",
        "\n",
        "- Write a function that:\n",
        "    - Takes in a string\n",
        "    - Uses the regular expression above to extract the coordinates\n",
        "    - Uses string manipulation functions to pull out the latitude\n",
        "    - Returns the latitude\n",
        "- Use the [Series.apply()](https://pandas.pydata.org/pandas-docs/stable/generated/pandas.Series.apply.html) method to apply the function across the **Location 1** column of **hs_directory**. Assign the result to the **lat** column of **hs_directory.**\n",
        "- Display the first few rows of **hs_directory** to verify the results."
      ]
    },
    {
      "metadata": {
        "id": "icKWGrNGdA-H",
        "colab_type": "code",
        "colab": {}
      },
      "cell_type": "code",
      "source": [
        "# put your code here\n",
        "data[\"class_size\"][\"DBN\"] = data[\"class_size\"].apply(lambda x: \"{0:02d}{1}\".format(x[\"CSD\"], x[\"SCHOOL CODE\"]), axis=1)\n",
        "data[\"hs_directory\"][\"DBN\"] = data[\"hs_directory\"][\"dbn\"]"
      ],
      "execution_count": 0,
      "outputs": []
    },
    {
      "metadata": {
        "id": "6heJmjkpdA-L",
        "colab_type": "text"
      },
      "cell_type": "markdown",
      "source": [
        "## 1.14 Extracting the Longitude"
      ]
    },
    {
      "metadata": {
        "id": "9fGaOtk7dA-N",
        "colab_type": "text"
      },
      "cell_type": "markdown",
      "source": [
        "On the last screen, we parsed the **latitude** from the **Location 1** column. Now we'll just need to do the same for the longitude.\n",
        "\n",
        "Once we have both coordinates, we'll need to convert them to numeric values. We can use the **pandas.to_numeric()** function to convert them from strings to numbers.\n",
        "\n",
        "**Exercise**\n",
        "\n",
        "<left><img width=\"100\" src=\"https://drive.google.com/uc?export=view&id=1E8tR7B9YYUXsU_rddJAyq0FrM0MSelxZ\"></left>\n",
        "\n",
        "- Write a function that:\n",
        "    - Takes in a string.\n",
        "    - Uses the regular expression above to extract the coordinates.\n",
        "    - Uses string manipulation functions to pull out the longitude.\n",
        "    - Returns the longitude.\n",
        "- Use the **Series.apply()** method to apply the function across the **Location 1** column of **hs_directory**. Assign the result to the **lon** column of **hs_directory.**\n",
        "- Use the **to_numeric()** function to convert the **lat** and **lon** columns of **hs_directory** to numbers.\n",
        "    - Specify the **errors=\"coerce\"** keyword argument to handle missing values properly.\n",
        "- Display the first few rows of hs_directory to verify the results."
      ]
    },
    {
      "metadata": {
        "id": "EiYru46HdA-N",
        "colab_type": "code",
        "colab": {}
      },
      "cell_type": "code",
      "source": [
        "# put your code here\n",
        "data[\"hs_directory\"]['lat'] = data[\"hs_directory\"]['Location 1'].apply(lambda x: x.split(\"\\n\")[-1].replace(\"(\", \"\").replace(\")\", \"\").split(\", \")[0])\n",
        "data[\"hs_directory\"]['lon'] = data[\"hs_directory\"]['Location 1'].apply(lambda x: x.split(\"\\n\")[-1].replace(\"(\", \"\").replace(\")\", \"\").split(\", \")[1])\n",
        " \n",
        "for c in ['lat', 'lon']:\n",
        "    data[\"hs_directory\"][c] = data[\"hs_directory\"][c].convert_objects(convert_numeric=True)"
      ],
      "execution_count": 0,
      "outputs": []
    },
    {
      "metadata": {
        "id": "GKwCzXMrdA-Q",
        "colab_type": "text"
      },
      "cell_type": "markdown",
      "source": [
        "## 1.15 Next Steps"
      ]
    },
    {
      "metadata": {
        "id": "2J6-p9JZdA-T",
        "colab_type": "text"
      },
      "cell_type": "markdown",
      "source": [
        "We're almost ready to combine our data sets! We've come a long way in this mission -- we've gone from choosing a topic for a project to acquiring the data to having clean data that we're almost ready to combine.\n",
        "\n",
        "Along the way, we've learned how to:\n",
        "\n",
        "- Handle files with different formats and columns\n",
        "- Prepare to merge multiple files\n",
        "- Use text processing to extract coordinates from a string\n",
        "- Convert columns from strings to numbers\n",
        "\n",
        "You'll always learn something new while working on a real-world data science project. Each project is unique, and there will always be quirks you don't quite know how to handle. The key is to be willing to try different approaches, and to have a general framework in your head for how to move from Step A to Step B.\n",
        "\n",
        "In the next section,  we'll finish cleaning the data sets, then combine them so we can start our analysis."
      ]
    }
  ]
}